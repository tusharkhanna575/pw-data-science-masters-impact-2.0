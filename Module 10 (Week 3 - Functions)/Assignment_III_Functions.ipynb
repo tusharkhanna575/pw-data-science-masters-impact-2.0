{
  "cells": [
    {
      "attachments": {},
      "cell_type": "markdown",
      "metadata": {
        "id": "3bO6ml_byuQa"
      },
      "source": [
        "# Assignment - III\n",
        "\n",
        "# Functions\n",
        "\n",
        "---\n",
        "\n",
        "### Date : 22 May 2023\n"
      ]
    },
    {
      "attachments": {},
      "cell_type": "markdown",
      "metadata": {
        "id": "7F3IupOI0iKe"
      },
      "source": [
        "##### Q1. Which keyword is used to create a function? Create a function to return a list of odd numbers in the range of 1 to 25.\n",
        "\n",
        "> In python, `def` keyword is used to create a function.\n"
      ]
    },
    {
      "cell_type": "code",
      "execution_count": 6,
      "metadata": {
        "colab": {
          "base_uri": "https://localhost:8080/"
        },
        "id": "aIHzQ-9T0nZl",
        "outputId": "47bf816f-5684-45dc-a2ee-7836a18af367"
      },
      "outputs": [
        {
          "name": "stdout",
          "output_type": "stream",
          "text": [
            "List of odd numbers in the range of 1 to 25 : [1, 3, 5, 7, 9, 11, 13, 15, 17, 19, 21, 23, 25]\n"
          ]
        }
      ],
      "source": [
        "def fun():\n",
        "    \"\"\"Function to return a list of odd numbers in th range of 1 to 25\"\"\"\n",
        "    l = [x for x in range(1, 26, 2)]\n",
        "    print(l)\n",
        "\n",
        "print(\"List of odd numbers in the range of 1 to 25 : \", end=\"\")\n",
        "fun()"
      ]
    },
    {
      "attachments": {},
      "cell_type": "markdown",
      "metadata": {
        "id": "y9a5tD0h1sJb"
      },
      "source": [
        "#### Q2. Why `*args` and `**kwargs` is used in some functions? Create a function each for `*args` and `**kwargs` to demonstrate their use.\n",
        "\n",
        "> `*args` and `**kwargs` are used in Python functions to allow for variable-length arguments. `*args` is used to pass a variable number of positional arguments to a function, while `**kwargs` is used to pass a variable number of keyword arguments to a function.\n",
        "\n",
        "> | Keyword    | Arguments             |\n",
        "> | ---------- | --------------------- |\n",
        "> | `**kwargs` | Keyword Arguments     |\n",
        "> | `*args`    | Non-Keyword Arguments |\n"
      ]
    },
    {
      "cell_type": "code",
      "execution_count": 3,
      "metadata": {
        "colab": {
          "base_uri": "https://localhost:8080/"
        },
        "id": "zd40DCFO2ScE",
        "outputId": "93bd4932-f449-43f9-9449-717c080aeb3d"
      },
      "outputs": [
        {
          "name": "stdout",
          "output_type": "stream",
          "text": [
            "Use of *args function\n",
            "1\n",
            "2\n",
            "3\n",
            "4\n",
            "5\n",
            "Use of **kwargs function\n",
            "Name -> John Doe\n",
            "Age -> 30\n",
            "Occupation -> Software Engineer\n"
          ]
        }
      ],
      "source": [
        "def args_function(*args):\n",
        "    print(\"Use of *args function\")\n",
        "    for arg in args:\n",
        "        print(arg)\n",
        "\n",
        "def kwargs_function(**kwargs):\n",
        "    print(\"Use of **kwargs function\")\n",
        "    for key, value in kwargs.items():\n",
        "        print(f\"{key} -> {value}\")\n",
        "\n",
        "args_function(1, 2, 3, 4, 5)\n",
        "# Output:\n",
        "# 1\n",
        "# 2\n",
        "# 3\n",
        "# 4\n",
        "# 5\n",
        "\n",
        "kwargs_function(Name=\"John Doe\", Age=30, Occupation=\"Software Engineer\")\n",
        "# Output:\n",
        "# Name John Doe\n",
        "# Age 30\n",
        "# Occupation Software Engineer"
      ]
    },
    {
      "attachments": {},
      "cell_type": "markdown",
      "metadata": {
        "id": "uznfUQPa2TMO"
      },
      "source": [
        "#### Q3. What is an iterator in python? Name the method used to initialise the iterator object and the method used for iteration. Use these methods to print the first five elements of the given list `[2, 4, 6, 8, 10, 12, 14, 16, 18, 20]`.\n",
        "\n",
        "> An iterator in Python is an object that can be used to iterate over a sequence of values. Iterators are implemented using the iterator protocol, which consists of two methods: `iter()` and `next()`. The `iter()` method returns the iterator object itself, while the `next()` method returns the next value in the sequence.\n",
        "\n",
        "> To initialize an iterator object, you can use the `iter()` function. The `iter()` function takes an iterable object as an argument and returns an iterator object for that iterable. For example, the following code creates an iterator object for the list `[2, 4, 6, 8, 10]`:\n",
        "\n",
        "> To iterate over an iterator object, you can use the `next()` function. The `next()` function returns the next value in the sequence, or raises a StopIteration exception if there are no more values in the sequence. For example, the following code prints the first five elements of the list `[2, 4, 6, 8, 10]`:\n"
      ]
    },
    {
      "cell_type": "code",
      "execution_count": 6,
      "metadata": {
        "colab": {
          "base_uri": "https://localhost:8080/"
        },
        "id": "Q0-w4QAIJO_V",
        "outputId": "b9778654-8d11-4ab2-ff33-3231e1057f50"
      },
      "outputs": [
        {
          "name": "stdout",
          "output_type": "stream",
          "text": [
            "2\n",
            "4\n",
            "6\n",
            "8\n",
            "10\n"
          ]
        }
      ],
      "source": [
        "list_of_numbers = [2, 4, 6, 8, 10, 12, 14, 16, 18, 20]\n",
        "iterator = iter(list_of_numbers)\n",
        "for i in range(5):\n",
        "    print(next(iterator))"
      ]
    },
    {
      "attachments": {},
      "cell_type": "markdown",
      "metadata": {
        "id": "jid-WQ9T2pdD"
      },
      "source": [
        "#### Q4. What is a generator function in python? Why yield keyword is used? Give an example of a generator function.\n",
        "\n",
        "> A generator function is a special type of function that returns an iterator. Generator functions are created using the yield keyword. The yield keyword tells the generator function to return a value, but it also remembers the state of the function so that it can be resumed from where it left off. This makes generator functions very efficient for generating large datasets or data streams, because they only need to store the current state of the function, rather than the entire dataset.\n",
        "\n",
        "> The yield keyword is used in generator functions to return a value from the function without actually finishing the function. This allows the function to be resumed from where it left off the next time it is called.\n",
        "\n",
        "> Here is an example of a generator function:\n"
      ]
    },
    {
      "cell_type": "code",
      "execution_count": 7,
      "metadata": {
        "colab": {
          "base_uri": "https://localhost:8080/"
        },
        "id": "TAuADMC62kXb",
        "outputId": "f131bf8b-d7fc-4a7c-e25d-91bd0ac57455"
      },
      "outputs": [
        {
          "name": "stdout",
          "output_type": "stream",
          "text": [
            "0\n",
            "1\n",
            "2\n",
            "3\n",
            "4\n",
            "5\n",
            "6\n",
            "7\n",
            "8\n",
            "9\n"
          ]
        }
      ],
      "source": [
        "def my_generator():\n",
        "    for i in range(10):\n",
        "        yield i\n",
        "\n",
        "# Create an iterator object for the generator function\n",
        "iterator = my_generator()\n",
        "\n",
        "# Iterate over the iterator object\n",
        "for i in iterator:\n",
        "    print(i)"
      ]
    },
    {
      "attachments": {},
      "cell_type": "markdown",
      "metadata": {
        "id": "WHze5UkI2w21"
      },
      "source": [
        "#### Q5. Create a generator function for prime numbers less than 1000. Use the `next()` method to print the first 20 prime numbers.\n"
      ]
    },
    {
      "cell_type": "code",
      "execution_count": 16,
      "metadata": {
        "colab": {
          "base_uri": "https://localhost:8080/"
        },
        "id": "-fqpxlQ9JVmR",
        "outputId": "b1e6017d-42c0-49fd-a828-a15d0f4ab9e3"
      },
      "outputs": [
        {
          "name": "stdout",
          "output_type": "stream",
          "text": [
            "The first 20 prime numbers are : 2 3 5 7 11 13 17 19 23 29 31 37 41 43 47 53 59 61 67 71 "
          ]
        }
      ],
      "source": [
        "def prime_generator():\n",
        "    primes = []\n",
        "    num = 2\n",
        "    \n",
        "    while True:\n",
        "        is_prime = True\n",
        "        \n",
        "        for prime in primes:\n",
        "            if num % prime == 0:\n",
        "                is_prime = False\n",
        "                break\n",
        "        \n",
        "        if is_prime:\n",
        "            primes.append(num)\n",
        "            yield num\n",
        "        \n",
        "        num += 1\n",
        "\n",
        "# Create the generator object\n",
        "generator = prime_generator()\n",
        "print(\"The first 20 prime numbers are :\", end = \" \")\n",
        "# Print the first 20 prime numbers\n",
        "for _ in range(20):\n",
        "    prime = next(generator)\n",
        "    print(prime, end = \" \")"
      ]
    }
  ],
  "metadata": {
    "colab": {
      "provenance": []
    },
    "kernelspec": {
      "display_name": "Python 3",
      "name": "python3"
    },
    "language_info": {
      "name": "python"
    }
  },
  "nbformat": 4,
  "nbformat_minor": 0
}
