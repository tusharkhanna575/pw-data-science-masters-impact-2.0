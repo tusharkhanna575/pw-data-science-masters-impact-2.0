{
 "cells": [
  {
   "attachments": {},
   "cell_type": "markdown",
   "id": "a8d1a971",
   "metadata": {},
   "source": [
    "# Assignment - I\n",
    "\n",
    "#### Date : 09 May 2023\n"
   ]
  },
  {
   "cell_type": "raw",
   "id": "2bf346fd",
   "metadata": {},
   "source": [
    "Q1. Create one variable containing following type of data:\n",
    "(i) string\n",
    "(ii) list\n",
    "(iii) float\n",
    "(iv) tuple"
   ]
  },
  {
   "cell_type": "code",
   "execution_count": 1,
   "id": "3ba23440",
   "metadata": {},
   "outputs": [
    {
     "name": "stdout",
     "output_type": "stream",
     "text": [
      "<class 'str'>\n",
      "<class 'list'>\n",
      "<class 'float'>\n",
      "<class 'tuple'>\n"
     ]
    }
   ],
   "source": [
    "#string variable\n",
    "name = \"Tushar\"\n",
    "\n",
    "#list variable\n",
    "city = [\"Ratlam\", \"Indore\"]\n",
    "\n",
    "#float variable\n",
    "percentage = 92.80\n",
    "\n",
    "#tuple variable\n",
    "marks = (56, 60, 59, 62, 60)\n",
    "\n",
    "print(type(name))\n",
    "print(type(city))\n",
    "print(type(percentage))\n",
    "print(type(marks))"
   ]
  },
  {
   "cell_type": "raw",
   "id": "1b6725f6",
   "metadata": {},
   "source": [
    "Q2. Given are some following variables containing data:\n",
    "(i) var1 = ‘ ‘\n",
    "(ii) var2 = ‘[ DS , ML , Python]’\n",
    "(iii) var3 = [ ‘DS’ , ’ML’ , ‘Python’ ]\n",
    "(iv) var4 = 1.\n",
    "What will be the data type of the above given variable."
   ]
  },
  {
   "cell_type": "raw",
   "id": "dd03fcc4",
   "metadata": {},
   "source": [
    "Answers:\n",
    "(i) String\n",
    "(ii) String\n",
    "(iii) List\n",
    "(iv) Integer"
   ]
  },
  {
   "cell_type": "raw",
   "id": "329d0868",
   "metadata": {},
   "source": [
    "Q3. Explain the use of the following operators using an example:\n",
    "(i) /\n",
    "(ii) %\n",
    "(iii) //\n",
    "(iv) **"
   ]
  },
  {
   "cell_type": "code",
   "execution_count": 1,
   "id": "108935bc",
   "metadata": {},
   "outputs": [
    {
     "name": "stdout",
     "output_type": "stream",
     "text": [
      "Use of 10/3 : 3.3333333333333335\n",
      "Use of 10%3 : 1\n",
      "Use of 10//3 : 3\n",
      "Use of 10**3 : 1000\n"
     ]
    }
   ],
   "source": [
    "#Answers\n",
    "\n",
    "#(i) Used for Division\n",
    "division = 10/3\n",
    "#will result in 10 is divided by 3, which gives 3.3333\n",
    "#gives output in the float format\n",
    "\n",
    "#(ii) Used for Modulo Division\n",
    "modulo_division = 10%3\n",
    "#will result in remainder when 10 is divided by 3, which gives 1\n",
    "#gives output as an integer \n",
    "\n",
    "#(iii) Used for Integer Division\n",
    "int_division = 10//3\n",
    "#will result in integer obtained when is divided by 3, which gives 3\n",
    "#gives output as an integer\n",
    "#always do rounding down of the output obtained \n",
    "#in this case 3.333 -> 3\n",
    "\n",
    "#(iv) Used for exponentiation\n",
    "exponentiation = 10**3\n",
    "#will result in 10 raised to the power 3, which gives 1000\n",
    "#gives output as an integer\n",
    "\n",
    "print(f\"Use of 10/3 : {division}\")\n",
    "print(f\"Use of 10%3 : {modulo_division}\")\n",
    "print(f\"Use of 10//3 : {int_division}\")\n",
    "print(f\"Use of 10**3 : {exponentiation}\")"
   ]
  },
  {
   "cell_type": "raw",
   "id": "a594b217",
   "metadata": {},
   "source": [
    "Q4. Create a list of length 10 of your choice containing multiple types of data. Using for loop print the element and its data type."
   ]
  },
  {
   "cell_type": "code",
   "execution_count": 5,
   "id": "6d649fa3",
   "metadata": {},
   "outputs": [
    {
     "name": "stdout",
     "output_type": "stream",
     "text": [
      "(1) Type of 10 : <class 'int'>\n",
      "(2) Type of 230.2 : <class 'float'>\n",
      "(3) Type of Tushar : <class 'str'>\n",
      "(4) Type of (10+2j) : <class 'complex'>\n",
      "(5) Type of True : <class 'bool'>\n",
      "(6) Type of (12, 43, 424) : <class 'tuple'>\n",
      "(7) Type of [242, 434, 527] : <class 'list'>\n",
      "(8) Type of {'name': 'Tushar', 'age': 20} : <class 'dict'>\n",
      "(9) Type of None : <class 'NoneType'>\n",
      "(10) Type of b'hello' : <class 'bytes'>\n",
      "(11) Type of {6354, 4325, 23} : <class 'set'>\n"
     ]
    }
   ],
   "source": [
    "list = [10, 230.20, \"Tushar\", 10+2j, True, (12,43,424), [242,434,527], {\"name\":\"Tushar\", \"age\":20}, None, b\"hello\", {23,4325,6354}]\n",
    "length = len(list)\n",
    "for i in range(length):\n",
    "    print(f\"({i+1}) Type of {list[i]} : {type(list[i])}\")"
   ]
  },
  {
   "cell_type": "raw",
   "id": "392defb1",
   "metadata": {},
   "source": [
    "Q5. Using a while loop, verify if the number A is purely divisible by number B and if so then how many times it can be divisible."
   ]
  },
  {
   "cell_type": "code",
   "execution_count": 8,
   "id": "704fdbd5",
   "metadata": {},
   "outputs": [
    {
     "name": "stdout",
     "output_type": "stream",
     "text": [
      "Values of A and B are 12 and 3 respectively\n",
      "Is A divisible by B : True\n",
      "Result of A/B : 4.0\n"
     ]
    }
   ],
   "source": [
    "a = int(input(\"Enter a number (A): \"))\n",
    "b = int(input(\"Enter a number (B): \"))\n",
    "print(f\"Values of A and B are {a} and {b} respectively\")\n",
    "divisible = bool(a%b == 0)\n",
    "print(f\"Is A divisible by B : {divisible}\")\n",
    "if(divisible):\n",
    "    print(f\"Result of A/B : {a/b}\")"
   ]
  },
  {
   "cell_type": "raw",
   "id": "36b3f7f3",
   "metadata": {},
   "source": [
    "Q6. Create a list containing 25 int type data. Using for loop and if-else condition print if the element is divisible by 3 or not."
   ]
  },
  {
   "cell_type": "code",
   "execution_count": 9,
   "id": "833c2cf7",
   "metadata": {},
   "outputs": [
    {
     "name": "stdout",
     "output_type": "stream",
     "text": [
      "List of 25 integers is : [19, 66, 52, 78, 11, 85, 72, 41, 78, 72, 86, 71, 15, 80, 30, 46, 30, 12, 11, 80, 21, 50, 1, 31, 49]\n",
      "(1) 19 is not divisible by 3\n",
      "(2) 66 is divisible by 3\n",
      "(3) 52 is not divisible by 3\n",
      "(4) 78 is divisible by 3\n",
      "(5) 11 is not divisible by 3\n",
      "(6) 85 is not divisible by 3\n",
      "(7) 72 is divisible by 3\n",
      "(8) 41 is not divisible by 3\n",
      "(9) 78 is divisible by 3\n",
      "(10) 72 is divisible by 3\n",
      "(11) 86 is not divisible by 3\n",
      "(12) 71 is not divisible by 3\n",
      "(13) 15 is divisible by 3\n",
      "(14) 80 is not divisible by 3\n",
      "(15) 30 is divisible by 3\n",
      "(16) 46 is not divisible by 3\n",
      "(17) 30 is divisible by 3\n",
      "(18) 12 is divisible by 3\n",
      "(19) 11 is not divisible by 3\n",
      "(20) 80 is not divisible by 3\n",
      "(21) 21 is divisible by 3\n",
      "(22) 50 is not divisible by 3\n",
      "(23) 1 is not divisible by 3\n",
      "(24) 31 is not divisible by 3\n",
      "(25) 49 is not divisible by 3\n"
     ]
    }
   ],
   "source": [
    "import random\n",
    "list = [random.randint(0,100) for i in range(25)]\n",
    "print(f\"List of 25 integers is : {list}\")\n",
    "for i in range(len(list)):\n",
    "    if(list[i]%3 == 0):\n",
    "        print(f\"({i+1}) {list[i]} is divisible by 3\")\n",
    "    else:\n",
    "        print(f\"({i+1}) {list[i]} is not divisible by 3\")"
   ]
  },
  {
   "cell_type": "raw",
   "id": "d60a449c",
   "metadata": {},
   "source": [
    "Q7. What do you understand about mutable and immutable data types? Give examples for both showing this property."
   ]
  },
  {
   "cell_type": "code",
   "execution_count": 15,
   "id": "66c7fa31",
   "metadata": {},
   "outputs": [
    {
     "name": "stdout",
     "output_type": "stream",
     "text": [
      "Mutable Data Types\n",
      "Original List : [13, 34, 56, 78, 90]\n",
      "Original Dictionary : {'name': 'Tushar', 'age': 20}\n",
      "Original Set : {24, 67, 94, 23}\n",
      "Modified List : [10, 34, 56, 78, 90]\n",
      "Modified Dictionary : {'name': 'Tushar Khanna', 'age': 20}\n",
      "Modified Set : {67, 100, 23, 24, 94}\n",
      "\n",
      "\n",
      "Immutable Data Types\n",
      "Original Integer : 10\n",
      "Original Float : 18.23\n",
      "Original String : Tushar\n",
      "Original Tuple : (10, 20, 30)\n",
      "Original Boolean : True\n",
      "'str' object does not support item assignment\n",
      "'tuple' object does not support item assignment\n"
     ]
    }
   ],
   "source": [
    "\"\"\"\n",
    "Mutable Data Types : Mutable data types are those data types whose values can be changed after their initialization.\n",
    "Example -> List, Dictionary, Set\n",
    "\"\"\"\n",
    "print(\"Mutable Data Types\")\n",
    "list = [13, 34, 56, 78, 90]\n",
    "dictionary = {\"name\":\"Tushar\", \"age\":20}\n",
    "set = {24, 67, 23, 94}\n",
    "print(f\"Original List : {list}\")\n",
    "list[0] = 10\n",
    "print(f\"Original Dictionary : {dictionary}\")\n",
    "dictionary[\"name\"] = \"Tushar Khanna\"\n",
    "print(f\"Original Set : {set}\")\n",
    "set.add(100)\n",
    "print(f\"Modified List : {list}\")\n",
    "print(f\"Modified Dictionary : {dictionary}\")\n",
    "print(f\"Modified Set : {set}\")\n",
    "\n",
    "\"\"\"\n",
    "Immutable Data Types : Immutable data types are those data types whose values cannot be changed after their initialization.\n",
    "Example -> Integer, Float, String, Tuple, Boolean\n",
    "\"\"\"\n",
    "print(\"\\n\\nImmutable Data Types\")\n",
    "integer = 10\n",
    "float = 18.23\n",
    "string = \"Tushar\"\n",
    "tuple = (10, 20, 30)\n",
    "boolean = True\n",
    "print(f\"Original Integer : {integer}\")\n",
    "print(f\"Original Float : {float}\")\n",
    "print(f\"Original String : {string}\")\n",
    "print(f\"Original Tuple : {tuple}\")\n",
    "print(f\"Original Boolean : {boolean}\")\n",
    "try:\n",
    "    string[0] = \"t\"\n",
    "except Exception as e:\n",
    "    print(e)\n",
    "try:\n",
    "    tuple[0] = 20\n",
    "except Exception as e:\n",
    "    print(e)"
   ]
  },
  {
   "cell_type": "code",
   "execution_count": null,
   "id": "0efd223b",
   "metadata": {},
   "outputs": [],
   "source": []
  }
 ],
 "metadata": {
  "kernelspec": {
   "display_name": "Python 3 (ipykernel)",
   "language": "python",
   "name": "python3"
  },
  "language_info": {
   "codemirror_mode": {
    "name": "ipython",
    "version": 3
   },
   "file_extension": ".py",
   "mimetype": "text/x-python",
   "name": "python",
   "nbconvert_exporter": "python",
   "pygments_lexer": "ipython3",
   "version": "3.11.3"
  }
 },
 "nbformat": 4,
 "nbformat_minor": 5
}
