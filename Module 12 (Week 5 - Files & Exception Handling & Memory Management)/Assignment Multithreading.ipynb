{
 "cells": [
  {
   "cell_type": "markdown",
   "metadata": {},
   "source": [
    "## Assignment Multithreading"
   ]
  },
  {
   "cell_type": "markdown",
   "metadata": {},
   "source": [
    "#### Q1. What is `multithreading` in python? Why is it used? Name the module used to handle threads in python.\n",
    "\n",
    "Multithreading is a process of executing multiple threads simultaneously. It is used to achieve parallelism. It is used to perform multiple tasks at the same time. The module used to handle threads in python is `threading`."
   ]
  },
  {
   "cell_type": "markdown",
   "metadata": {},
   "source": [
    "#### Q2. Why threading module used? Write the use of the following functions: \n",
    "1. activeCount(): \n",
    "2. currentThread(): \n",
    "3. enumerate(): \n",
    "\n",
    "The `threading` module is used to handle threads in python. The use of the following functions is as follows:\n",
    "1. `activeCount()`: It returns the number of thread objects currently alive. The returned count includes the main thread.\n",
    "2. `currentThread()`: It returns the current thread object, corresponding to the caller's thread of control.\n",
    "3. `enumerate()`: It returns a list of all thread objects currently alive. The list includes the main thread, and it is equivalent to list(threading.enumerate())."
   ]
  },
  {
   "cell_type": "markdown",
   "metadata": {},
   "source": [
    "#### Q3. Explain the following functions: \n",
    "\n",
    "1. `run()`: The `run()` method is the entry point for a thread. It is called when the thread is started using the `start()` method. The `run()` method contains the code that is executed by the thread.\n",
    "\n",
    "2. `start()`: The `start()` method is used to start the execution of a thread. It calls the `run()` method internally.\n",
    "\n",
    "3. `join()`: The `join()` method is used to wait for the thread to complete its execution. It blocks the calling thread until the thread whose `join()` method is called completes its execution.\n",
    "4. `isAlive()`: The `isAlive()` method is used to check whether the thread is alive or not. It returns `True` if the thread is alive, otherwise `False`."
   ]
  },
  {
   "cell_type": "markdown",
   "metadata": {},
   "source": [
    "#### Q4. Write a python program to create two threads. Thread one must print the list of squares and thread two must print the list of cubes."
   ]
  },
  {
   "cell_type": "code",
   "execution_count": 3,
   "metadata": {},
   "outputs": [
    {
     "name": "stdout",
     "output_type": "stream",
     "text": [
      "1 sqaure = 1\n",
      "1 cube = 1\n",
      "2 sqaure = 4\n",
      "2 cube = 8\n",
      "3 sqaure = 9\n",
      "3 cube = 27\n",
      "4 sqaure = 16\n",
      "4 cube = 64\n",
      "5 sqaure = 25\n",
      "5 cube = 125\n",
      "Done!\n"
     ]
    }
   ],
   "source": [
    "import threading\n",
    "import time\n",
    "# Create a lock object\n",
    "lock = threading.Lock()\n",
    "\n",
    "\n",
    "def print_squares():\n",
    "    for i in range(1, 6):\n",
    "        lock.acquire()\n",
    "        print(f\"{i} sqaure = {i**2}\")\n",
    "        lock.release()\n",
    "        time.sleep(1)\n",
    "\n",
    "\n",
    "def print_cubes():\n",
    "    for i in range(1, 6):\n",
    "        lock.acquire()\n",
    "        print(f\"{i} cube = {i**3}\")\n",
    "        lock.release()\n",
    "        time.sleep(1)\n",
    "\n",
    "\n",
    "# Create two threads\n",
    "t1 = threading.Thread(target=print_squares)\n",
    "t2 = threading.Thread(target=print_cubes)\n",
    "\n",
    "# Start the threads\n",
    "t1.start()\n",
    "t2.start()\n",
    "\n",
    "# Wait for the threads to finish\n",
    "t1.join()\n",
    "t2.join()\n",
    "print(\"Done!\")"
   ]
  },
  {
   "cell_type": "markdown",
   "metadata": {},
   "source": [
    "#### Q5. State advantages and disadvantages of multithreading.\n",
    "\n",
    "**Advantages of Multithreading:**\n",
    "1. `Improved Performance`: Multithreading allows multiple threads to execute concurrently, which can improve the performance of the application by utilizing the  available CPU resources more efficiently.\n",
    "2. `Responsiveness`: Multithreading can improve the responsiveness of the application by allowing tasks to be executed in parallel, which can reduce the overall execution time.\n",
    "3. `Resource Sharing`: Multithreading allows threads to share resources such as memory, files, and other system resources, which can reduce the overhead of creating and managing separate processes.\n",
    "4. `Simplicity`: Multithreading can simplify the design of complex applications by allowing different tasks to be executed concurrently in separate threads.\n",
    "\n",
    "**Disadvantages of Multithreading:**\n",
    "1. `Complexity`: Multithreading can introduce complexity into the application design, as developers need to manage synchronization, communication, and coordination between threads.\n",
    "2. `Synchronization`: Multithreading can introduce synchronization issues such as race conditions, deadlocks, and livelocks, which can be difficult to debug and resolve \n",
    "3. `Overhead`: Multithreading can introduce overhead due to the creation, management, and synchronization of threads, which can impact the performance of the application.\n",
    "4. `Debugging`: Multithreading can make debugging more difficult, as issues such\n",
    "as race conditions and deadlocks can be difficult to reproduce and diagnose. "
   ]
  },
  {
   "cell_type": "markdown",
   "metadata": {},
   "source": [
    "#### Q6. Explain deadlocks and race conditions.\n",
    "\n",
    "**Deadlocks:**\n",
    "Deadlocks occur when two or more threads are blocked forever, waiting for each other to release the resources they need. A deadlock situation arises when two or more threads are waiting for each other to release the resources they need to proceed. Deadlocks can occur when multiple threads acquire locks on resources in a different order, leading to a circular wait condition. Deadlocks can be avoided by ensuring that threads acquire locks on resources in a consistent order and by using timeouts and deadlock detection.\n",
    "\n",
    "**Race Conditions:**\n",
    "A race condition occurs when two or more threads access shared data and try to modify it at the same time. As a result, the outcome of the execution depends on the sequence or timing of uncontrollable events. Race conditions can lead to unexpected behavior, errors, and inconsistencies in the program. They can be avoided by using synchronization mechanisms such as locks, semaphores, and monitors to ensure that only one thread can access shared data at a time."
   ]
  }
 ],
 "metadata": {
  "kernelspec": {
   "display_name": "Python 3",
   "language": "python",
   "name": "python3"
  },
  "language_info": {
   "codemirror_mode": {
    "name": "ipython",
    "version": 3
   },
   "file_extension": ".py",
   "mimetype": "text/x-python",
   "name": "python",
   "nbconvert_exporter": "python",
   "pygments_lexer": "ipython3",
   "version": "3.12.4"
  }
 },
 "nbformat": 4,
 "nbformat_minor": 2
}
