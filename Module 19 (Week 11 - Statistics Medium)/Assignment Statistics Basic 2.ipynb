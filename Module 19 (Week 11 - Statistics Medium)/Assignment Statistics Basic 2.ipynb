{
 "cells": [
  {
   "cell_type": "markdown",
   "metadata": {},
   "source": [
    "## Assignment Statistics Basic 2"
   ]
  },
  {
   "cell_type": "markdown",
   "metadata": {},
   "source": [
    "#### Q1. What are the three measures of central tendency?\n",
    "The three measures of central tendency are:\n",
    "1. Mean\n",
    "2. Median\n",
    "3. Mode"
   ]
  },
  {
   "cell_type": "markdown",
   "metadata": {},
   "source": [
    "#### Q2. What is the difference between the mean, median, and mode? How are they used to measure the central tendency of a dataset?\n",
    "- The `mean` is the average of all the numbers in a dataset. \n",
    "- The `median` is the middle number in a dataset when the numbers are arranged in ascending order. \n",
    "- The `mode` is the number that appears most frequently in a dataset. \n",
    "\n",
    "These measures are used to measure the central tendency of a dataset by providing a single value that represents the \"center\" of the data. The mean is sensitive to outliers, the median is not, and the mode is useful for categorical data."
   ]
  },
  {
   "cell_type": "markdown",
   "metadata": {},
   "source": [
    "#### Q3. Measure the three measures of central tendency for the given height data:\n",
    "`[178,177,176,177,178.2,178,175,179,180,175,178.9,176.2,177,172.5,178,176.5]`"
   ]
  },
  {
   "cell_type": "code",
   "execution_count": 2,
   "metadata": {},
   "outputs": [
    {
     "name": "stdout",
     "output_type": "stream",
     "text": [
      "Mean: 177.01874999999998\n",
      "Median: 177.0\n",
      "Mode: 177\n"
     ]
    }
   ],
   "source": [
    "heights = [178, 177, 176, 177, 178.2, 178, 175, 179,\n",
    "           180, 175, 178.9, 176.2, 177, 172.5, 178, 176.5]\n",
    "heights.sort()\n",
    "\n",
    "# Mean\n",
    "mean = sum(heights) / len(heights)\n",
    "\n",
    "# Median\n",
    "if len(heights) % 2 == 0:\n",
    "    median = (heights[len(heights) // 2 - 1] + heights[len(heights) // 2]) / 2\n",
    "else:\n",
    "    median = heights[len(heights) // 2]\n",
    "\n",
    "# Mode\n",
    "mode = max(set(heights), key=heights.count)\n",
    "\n",
    "print(f\"Mean: {mean}\")\n",
    "print(f\"Median: {median}\")\n",
    "print(f\"Mode: {mode}\")"
   ]
  },
  {
   "cell_type": "markdown",
   "metadata": {},
   "source": [
    "#### Q4. Find the standard deviation for the given data:\n",
    "`[178,177,176,177,178.2,178,175,179,180,175,178.9,176.2,177,172.5,178,176.5]`"
   ]
  },
  {
   "cell_type": "code",
   "execution_count": 3,
   "metadata": {},
   "outputs": [
    {
     "name": "stdout",
     "output_type": "stream",
     "text": [
      "Standard Deviation: 1.7885814036548633\n"
     ]
    }
   ],
   "source": [
    "heights = [178, 177, 176, 177, 178.2, 178, 175, 179,\n",
    "           180, 175, 178.9, 176.2, 177, 172.5, 178, 176.5]\n",
    "heights.sort()\n",
    "\n",
    "# Standard Deviation\n",
    "mean = sum(heights) / len(heights)\n",
    "variance = sum((x - mean) ** 2 for x in heights) / len(heights)\n",
    "\n",
    "std_dev = variance ** 0.5\n",
    "print(f\"Standard Deviation: {std_dev}\")"
   ]
  },
  {
   "cell_type": "markdown",
   "metadata": {},
   "source": [
    "#### Q5. How are measures of dispersion such as range, variance, and standard deviation used to describe the spread of a dataset? Provide an example.\n",
    "- The `range` is the difference between the maximum and minimum values in a dataset.\n",
    "- The `variance` is the average of the squared differences from the mean.\n",
    "- The `standard deviation` is the square root of the variance.\n",
    "- These measures are used to describe the spread of a dataset by providing a sense of how spread out the data points are from the central value (mean). A larger range, variance, or standard deviation indicates a more spread out dataset, while a smaller value indicates a more concentrated dataset.\n",
    "\n",
    "Example: Suppose we have the following dataset of exam scores: 60, 70, 80\n",
    "- Range = `80 - 60` = 20\n",
    "- Variance = `((60-70)^2 + (70-70)^2 + (80-70)^2) / 3` = 66.67\n",
    "- Standard Deviation = `sqrt(66.67)` = 8.16"
   ]
  },
  {
   "cell_type": "markdown",
   "metadata": {},
   "source": [
    "#### Q6. What is a Venn diagram?\n",
    "A Venn diagram is a visual representation of the relationships between different sets of data. It consists of overlapping circles or other shapes that represent the different sets, with the overlapping areas showing the common elements between the sets."
   ]
  },
  {
   "cell_type": "markdown",
   "metadata": {},
   "source": [
    "#### Q7. For the two given sets A = `(2,3,4,5,6,7)` and B = `(0,2,6,8,10)`. Find:\n",
    "1. `A ∪ B`\n",
    "2. `A ∩ B`"
   ]
  },
  {
   "cell_type": "code",
   "execution_count": 4,
   "metadata": {},
   "outputs": [
    {
     "name": "stdout",
     "output_type": "stream",
     "text": [
      "Union: {0, 2, 3, 4, 5, 6, 7, 8, 10}\n",
      "Intersection: {2, 6}\n"
     ]
    }
   ],
   "source": [
    "A = set([2, 3, 4, 5, 6, 7])\n",
    "B = set([0, 2, 6, 8, 10])\n",
    "\n",
    "# A ∪ B\n",
    "union = A.union(B)\n",
    "print(f\"Union: {union}\")\n",
    "\n",
    "# A ∩ B\n",
    "intersection = A.intersection(B)\n",
    "print(f\"Intersection: {intersection}\")"
   ]
  },
  {
   "cell_type": "markdown",
   "metadata": {},
   "source": [
    "#### Q8. What do you understand about skewness in data?\n",
    "`Skewness` is a measure of the asymmetry of the probability distribution of a real-valued random variable about its mean. A dataset is said to be skewed if the distribution of the data is not symmetrical. Skewness can be:\n",
    "1. `positive` (right-skewed)\n",
    "2. `negative` (left-skewed) \n",
    "3. `zero` (symmetrical)"
   ]
  },
  {
   "cell_type": "markdown",
   "metadata": {},
   "source": [
    "#### Q9. If a data is right skewed then what will be the position of median with respect to mean? (left or right)\n",
    "If a data is right-skewed, the median will be less than the mean. This is because the right-skewness pulls the mean towards the higher values, making it greater than the median.\n",
    "\n",
    "Position: `left`"
   ]
  },
  {
   "cell_type": "markdown",
   "metadata": {},
   "source": [
    "#### Q10. Explain the difference between covariance and correlation. How are these measures used in statistical analysis?\n",
    "- `Covariance` is a measure of the relationship between two random variables. It indicates the direction of the linear relationship between the variables.\n",
    "- `Correlation` is a standardized measure of the relationship between two variables. It indicates both the strength and direction of the linear relationship between the variables.\n",
    "- `Covariance` is sensitive to the scale of the variables,, the correlation is not.\n",
    "\n",
    "These measures are used in statistical analysis to understand the relationship between variables, identify patterns, and make predictions based on the data."
   ]
  },
  {
   "cell_type": "markdown",
   "metadata": {},
   "source": [
    "#### Q11. What is the formula for calculating the sample mean? Provide an example calculation for a dataset.\n",
    "The formula for calculating the sample mean is:\n",
    "`Mean = (Sum of all values) / (Number of values)`\n",
    "Example: Calculate the mean for the dataset `[2, 4, 6, 8, 10]`"
   ]
  },
  {
   "cell_type": "code",
   "execution_count": 5,
   "metadata": {},
   "outputs": [
    {
     "name": "stdout",
     "output_type": "stream",
     "text": [
      "The average of the values is:  6.0\n"
     ]
    }
   ],
   "source": [
    "values = [2, 4, 6, 8, 10]\n",
    "sum_values = sum(values)\n",
    "number_of_values = len(values)\n",
    "average = sum_values / number_of_values\n",
    "print(\"The average of the values is: \", average)"
   ]
  },
  {
   "cell_type": "markdown",
   "metadata": {},
   "source": [
    "#### Q12. For a normal distribution data what is the relationship between its measure of central tendency?\n",
    "For a normal distribution, the mean, median, and mode are equal and are located at the center of the distribution. The normal distribution is symmetric around the mean, and the measures of central tendency are the same."
   ]
  },
  {
   "cell_type": "markdown",
   "metadata": {},
   "source": [
    "#### Q13. How is covariance different from correlation?\n",
    "- `Covariance` measures the extent to which two variables change together. It indicates the direction of the linear relationship between the variables.\n",
    "- `Correlation` is a standardized measure of the relationship between two variables. It indicates both the strength and direction of the linear relationship between the variables.\n",
    "- `Covariance` is sensitive to the scale of the variables, while the correlation is not.\n",
    "- `Covariance` is a measure of the strength of the relationship between two variables, while\n",
    "- `Correlation` is a measure of the strength and direction of the relationship between two variables."
   ]
  },
  {
   "cell_type": "markdown",
   "metadata": {},
   "source": [
    "#### Q14. How do outliers affect measures of central tendency and dispersion? Provide an example.\n",
    "`Outliers` can significantly affect the measures of central tendency and dispersion. For example, if a dataset contains an outlier that is much larger or smaller than the other values, it can skew the mean, median, and mode. The range, variance, and standard deviation can also be affected by outliers, as they are based on the spread of the data points.\n",
    "\n",
    "For instance, consider a dataset of exam scores with values ranging from 60 to 90, except\n",
    "for one outlier of 120. The mean will be significantly higher due to the outlier, and the standard deviation will also be affected by the outlier."
   ]
  }
 ],
 "metadata": {
  "kernelspec": {
   "display_name": "Python 3",
   "language": "python",
   "name": "python3"
  },
  "language_info": {
   "codemirror_mode": {
    "name": "ipython",
    "version": 3
   },
   "file_extension": ".py",
   "mimetype": "text/x-python",
   "name": "python",
   "nbconvert_exporter": "python",
   "pygments_lexer": "ipython3",
   "version": "3.12.4"
  }
 },
 "nbformat": 4,
 "nbformat_minor": 2
}
