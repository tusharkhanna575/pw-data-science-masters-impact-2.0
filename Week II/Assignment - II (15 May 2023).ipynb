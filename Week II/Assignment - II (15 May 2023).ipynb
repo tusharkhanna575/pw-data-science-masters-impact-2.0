{
 "cells": [
  {
   "cell_type": "markdown",
   "id": "33aacb59-fab0-483e-9d42-6df86e22c3bc",
   "metadata": {},
   "source": [
    "# <center>Assignment - II \n",
    "## <center>Date: 15 May 2023"
   ]
  },
  {
   "cell_type": "markdown",
   "id": "2b93d683-5d0c-44a3-89dc-fe4cc7332c81",
   "metadata": {},
   "source": [
    "### Q1. How do you comment code in Python? What are the different types of comments?\n",
    "\n",
    "We can comment code in python in 2 ways. They are:-\n",
    "\n",
    "1. Use of #\n",
    "2. Use of \"\"\" (docstring)"
   ]
  },
  {
   "cell_type": "code",
   "execution_count": 24,
   "id": "f385dae2-0162-45fb-a905-327c437f3e8c",
   "metadata": {},
   "outputs": [
    {
     "data": {
      "text/plain": [
       "'mainly it is used for multi-line comments'"
      ]
     },
     "execution_count": 24,
     "metadata": {},
     "output_type": "execute_result"
    }
   ],
   "source": [
    "#mainly it is used for single comment\n",
    "\"\"\"mainly it is used for multi-line comments\"\"\""
   ]
  },
  {
   "cell_type": "markdown",
   "id": "b81edd7d-e74b-43a4-b044-b699ebeb0175",
   "metadata": {},
   "source": [
    "### Q2. What are variables in Python? How do you declare and assign values to variables?\n",
    "\n",
    "In Python, a variable is a named location in memory that can store data. Variables are used to store data so that it can be used later in the program.\n",
    "\n",
    "To declare any variable in python, we can the following syntax\n",
    "variable_name=value\n",
    "\n",
    "Once we have declared a variable, we can used to refer the value is stores"
   ]
  },
  {
   "cell_type": "code",
   "execution_count": 25,
   "id": "52916c93-c1dc-4b71-813e-46ef38bbdd1f",
   "metadata": {},
   "outputs": [
    {
     "name": "stdout",
     "output_type": "stream",
     "text": [
      "Tushar Khanna\n"
     ]
    }
   ],
   "source": [
    "a=\"Tushar Khanna\"\n",
    "print(a)"
   ]
  },
  {
   "cell_type": "markdown",
   "id": "e8fdef6f-4bac-4d88-b49a-7b7fdc237ba3",
   "metadata": {},
   "source": [
    "### Q3. How do you convert one data type to another in Python?\n",
    "\n",
    "Python has built-in functions or converting data types. To convert one data type to another, you use the appropriate function.\n",
    "\n",
    "For example-\n",
    "string     ->  str()\n",
    "number     ->  int(), float(), complex()\n",
    "list       ->  list()\n",
    "set        ->  set()\n",
    "tuple      ->  tuple()\n",
    "dictionary ->  dict()\n",
    "\n",
    "The process of conversion of data from one datatype to another is known as typeconversion.\n",
    "\n",
    "For example-"
   ]
  },
  {
   "cell_type": "code",
   "execution_count": 26,
   "id": "b479bb40-8ee0-41fb-899e-9c01e6f17f75",
   "metadata": {},
   "outputs": [
    {
     "name": "stdout",
     "output_type": "stream",
     "text": [
      "{1, 2, 3, 4}\n"
     ]
    }
   ],
   "source": [
    "l = [1, 2, 2, 3, 4]\n",
    "#l is a given list \n",
    "#if we want to typecast it into a set\n",
    "#we will write the command\n",
    "s = set(l)\n",
    "print(s)"
   ]
  },
  {
   "cell_type": "markdown",
   "id": "fa58e444-1a4e-4a57-b626-c559d38b3645",
   "metadata": {},
   "source": [
    "### Q4. How do you write and execute a Python script from the command line?\n",
    "\n",
    "To write and execute a Python script from the command line, you need to follow these steps:\n",
    "1. Create a Python script file.\n",
    "2. Save the Python script file with a .py extension. (let us say <test.py>)\n",
    "3. Open a command prompt or terminal window.\n",
    "4. Navigate to the directory where the Python script file is located.\n",
    "5. Type the following command to execute the Python script:\n",
    "\n",
    "```\n",
    "python test.py\n",
    "```"
   ]
  },
  {
   "cell_type": "markdown",
   "id": "f231a715-7c98-4aab-a7ad-1f6c8d7d14f6",
   "metadata": {},
   "source": [
    "### Q5. Given a list my_list = [1, 2, 3, 4, 5], write the code to slice the list and obtain the sub-list [2, 3]."
   ]
  },
  {
   "cell_type": "code",
   "execution_count": 27,
   "id": "53ef1a07-794c-4f6d-ab1b-9032871c11a9",
   "metadata": {},
   "outputs": [
    {
     "name": "stdout",
     "output_type": "stream",
     "text": [
      "[2, 3]\n"
     ]
    }
   ],
   "source": [
    "my_list = [1, 2, 3, 4, 5]\n",
    "print(my_list[1:3])"
   ]
  },
  {
   "cell_type": "markdown",
   "id": "3a0d9aca-b416-4c6b-b5e2-77308a679656",
   "metadata": {},
   "source": [
    "### Q6. What is a complex number in mathematics, and how is it represented in Python?"
   ]
  },
  {
   "cell_type": "markdown",
   "id": "c18ded40-13ef-44d2-a861-ec9c14f23fa5",
   "metadata": {},
   "source": [
    "A complex number is a number of the form a + bi, where a and b are real numbers, and i is an imaginary unit satisfying i<sup>2</sup> = −1."
   ]
  },
  {
   "cell_type": "code",
   "execution_count": 28,
   "id": "b8a7484d-59dc-4b69-8b9a-623fde98f7bf",
   "metadata": {},
   "outputs": [
    {
     "name": "stdout",
     "output_type": "stream",
     "text": [
      "<class 'complex'>\n",
      "(1+2j)\n"
     ]
    }
   ],
   "source": [
    "c = 1+2j\n",
    "print(type(c))\n",
    "print(c)"
   ]
  },
  {
   "cell_type": "markdown",
   "id": "8206ed4b-78d3-4b35-826f-ace865b8faf5",
   "metadata": {},
   "source": [
    "### Q7. What is the correct way to declare a variable named age and assign the value 25 to it?"
   ]
  },
  {
   "cell_type": "code",
   "execution_count": 29,
   "id": "3e641099-9a02-4b2d-8fe9-079f2b182722",
   "metadata": {},
   "outputs": [
    {
     "name": "stdout",
     "output_type": "stream",
     "text": [
      "25\n"
     ]
    }
   ],
   "source": [
    "age = 25\n",
    "print(age)"
   ]
  },
  {
   "cell_type": "markdown",
   "id": "a19d7ed6-c6c8-4881-b356-ee0ef41f4f64",
   "metadata": {},
   "source": [
    "### Q8. Declare a variable named price and assign the value 9.99 to it. What data type does this variable belong to?"
   ]
  },
  {
   "cell_type": "markdown",
   "id": "57beab82-2477-4e76-bd19-c54b28cf5e24",
   "metadata": {},
   "source": [
    "Since, it is a decimal number, therefore it will belong to float class."
   ]
  },
  {
   "cell_type": "code",
   "execution_count": 30,
   "id": "ecd12d46-27da-4736-811b-4745e1cec7b4",
   "metadata": {},
   "outputs": [
    {
     "name": "stdout",
     "output_type": "stream",
     "text": [
      "<class 'float'>\n"
     ]
    }
   ],
   "source": [
    "price = 9.99\n",
    "print(type(price))"
   ]
  },
  {
   "cell_type": "markdown",
   "id": "77f8dd97-c72e-4bb4-a6cc-2ae793695929",
   "metadata": {},
   "source": [
    "### Q9. Create a variable named name and assign your full name to it as a string. How would you print the value of this variable?"
   ]
  },
  {
   "cell_type": "code",
   "execution_count": 31,
   "id": "2bbfd4cb-6c19-4797-9a19-1279c5299452",
   "metadata": {},
   "outputs": [
    {
     "name": "stdout",
     "output_type": "stream",
     "text": [
      "Tushar Khanna\n"
     ]
    }
   ],
   "source": [
    "# We can print the value of the name variable, by using the built-in print function\n",
    "# Syntax: print(variable_name)\n",
    "name = \"Tushar Khanna\"\n",
    "print(name)"
   ]
  },
  {
   "cell_type": "markdown",
   "id": "36a2a508-d82a-42d4-836a-e6a10bb02e65",
   "metadata": {},
   "source": [
    "### Q10. Given the string \"Hello, World!\", extract the substring \"World\"."
   ]
  },
  {
   "cell_type": "code",
   "execution_count": 32,
   "id": "51514381-8f37-4d47-bfcf-090b9e734db6",
   "metadata": {},
   "outputs": [
    {
     "name": "stdout",
     "output_type": "stream",
     "text": [
      "World\n"
     ]
    }
   ],
   "source": [
    "string = \"Hello, World!\"\n",
    "print(string[7:-1])"
   ]
  },
  {
   "cell_type": "markdown",
   "id": "b56d5959-6620-4d50-8461-812ff25f2a9f",
   "metadata": {},
   "source": [
    "### Q11. Create a variable named \"is_student\" and assign it a boolean value indicating whether you are currently a student or not."
   ]
  },
  {
   "cell_type": "code",
   "execution_count": 33,
   "id": "f82856eb-5d77-425f-9841-694ef3b3b752",
   "metadata": {},
   "outputs": [
    {
     "name": "stdout",
     "output_type": "stream",
     "text": [
      "True\n"
     ]
    }
   ],
   "source": [
    "is_student = True\n",
    "print(is_student)"
   ]
  }
 ],
 "metadata": {
  "kernelspec": {
   "display_name": "Python 3 (ipykernel)",
   "language": "python",
   "name": "python3"
  },
  "language_info": {
   "codemirror_mode": {
    "name": "ipython",
    "version": 3
   },
   "file_extension": ".py",
   "mimetype": "text/x-python",
   "name": "python",
   "nbconvert_exporter": "python",
   "pygments_lexer": "ipython3",
   "version": "3.10.8"
  }
 },
 "nbformat": 4,
 "nbformat_minor": 5
}
