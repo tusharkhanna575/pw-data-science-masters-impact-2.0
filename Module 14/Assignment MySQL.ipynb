{
 "cells": [
  {
   "cell_type": "markdown",
   "metadata": {},
   "source": [
    "## Assignment MySQL"
   ]
  },
  {
   "cell_type": "markdown",
   "metadata": {},
   "source": [
    "#### Q.1 What is a database? Differentiate between SQL and NoSQL databases.\n",
    "\n",
    "A database is a collection of data that is stored in a computer system. Databases are used to store, manage, and retrieve data. They are used in many applications, such as websites, mobile apps, and desktop applications.\n",
    "\n",
    "SQL databases are relational databases that use structured query language (SQL) to interact with the database. SQL databases are used in many applications, such as websites, mobile apps, and desktop applications. SQL databases are used to store data in tables, which are organized into rows and columns. SQL databases are used to store data in a structured format, which makes it easy to query and retrieve data.\n",
    "\n",
    "NoSQL databases are non-relational databases that do not use SQL to interact with the database. NoSQL databases are used in many applications, such as websites, mobile apps, and desktop applications. NoSQL databases are used to store data in a non-structured format, which makes it easy to store and retrieve data. NoSQL databases are used to store data in a non-structured format, which makes it easy to store and retrieve data."
   ]
  },
  {
   "cell_type": "markdown",
   "metadata": {},
   "source": [
    "#### Q.2 What is DDL? Explain why CREATE, DROP, ALTER, and TRUNCATE are used with an example.\n",
    "\n",
    "DDL stands for Data Definition Language. DDL is used to define the structure of the database, such as creating tables, dropping tables, altering tables, and truncating tables.\n",
    "\n",
    "CREATE is used to create a new table in the database. For example, the following SQL statement creates a new table called `users` with three columns: `id`, `name`, and `email`.\n",
    "\n",
    "```sql\n",
    "CREATE TABLE users (\n",
    "    id INT PRIMARY KEY,\n",
    "    name VARCHAR(50),\n",
    "    email VARCHAR(50)\n",
    ");\n",
    "```\n",
    "\n",
    "DROP is used to drop an existing table from the database. For example, the following SQL statement drops the `users` table from the database.\n",
    "\n",
    "```sql\n",
    "DROP TABLE users;\n",
    "```\n",
    "\n",
    "ALTER is used to modify an existing table in the database. For example, the following SQL statement adds a new column called `age` to the `users` table.\n",
    "\n",
    "```sql\n",
    "ALTER TABLE users ADD COLUMN age INT;\n",
    "```\n",
    "\n",
    "TRUNCATE is used to remove all the data from a table without dropping the table itself. For example, the following SQL statement removes all the data from the `users` table.\n",
    "\n",
    "```sql\n",
    "TRUNCATE TABLE users;\n",
    "```"
   ]
  },
  {
   "cell_type": "markdown",
   "metadata": {},
   "source": [
    "#### Q.3 What is DML? Explain INSERT, UPDATE, and DELETE with an example.\n",
    "\n",
    "DML stands for Data Manipulation Language. DML is used to manipulate the data in the database, such as inserting new data, updating existing data, and deleting existing data.\n",
    "\n",
    "INSERT is used to insert new data into a table in the database. For example, the following SQL statement inserts a new row into the `users` table with the values `1`, `John Doe`, and `john@ymail.com`.\n",
    "\n",
    "```sql\n",
    "INSERT INTO users (id, name, email) VALUES (1, 'John Doe', 'john@ymail.com');\n",
    "```\n",
    "\n",
    "UPDATE is used to update existing data in a table in the database. For example, the following SQL statement updates the `name` column of the row with `id` equal to `1` in the `users` table to `Jane Doe`.\n",
    "\n",
    "```sql\n",
    "UPDATE users SET name = 'Jane Doe' WHERE id = 1;\n",
    "```\n",
    "\n",
    "DELETE is used to delete existing data from a table in the database. For example, the following SQL statement deletes the row with `id` equal to `1` from the `users` table.\n",
    "\n",
    "```sql\n",
    "DELETE FROM users WHERE id = 1;\n",
    "```"
   ]
  },
  {
   "cell_type": "markdown",
   "metadata": {},
   "source": [
    "#### Q.4 What is DQL? Explain SELECT with an example.\n",
    "\n",
    "DQL stands for Data Query Language. DQL is used to query the data in the database, such as selecting data from a table.\n",
    "\n",
    "SELECT is used to select data from a table in the database. For example, the following SQL statement selects all the data from the `users` table.\n",
    "\n",
    "```sql \n",
    "SELECT * FROM users;\n",
    "```"
   ]
  },
  {
   "cell_type": "markdown",
   "metadata": {},
   "source": [
    "#### Q.5 Explain Primary Key and Foreign Key.\n",
    "\n",
    "A primary key is a column or a set of columns that uniquely identifies each row in a table. A primary key must be unique for each row in the table and cannot be null. A primary key is used to enforce the uniqueness of the data in the table.\n",
    "\n",
    "A foreign key is a column or a set of columns that establishes a relationship between two tables. A foreign key is used to link the data in one table to the data in another table. A foreign key is used to enforce referential integrity between the two tables."
   ]
  },
  {
   "cell_type": "markdown",
   "metadata": {},
   "source": [
    "#### Q.6 Write a python code to connect MySQL to python. Explain the cursor() and execute() method."
   ]
  },
  {
   "cell_type": "code",
   "execution_count": 6,
   "metadata": {},
   "outputs": [
    {
     "name": "stdout",
     "output_type": "stream",
     "text": [
      "Connected to the database\n",
      "Tables are: authors, books, customers, order_lines, orders, "
     ]
    }
   ],
   "source": [
    "import mysql.connector as myconn\n",
    "\n",
    "mydb = myconn.connect(\n",
    "    host=\"localhost\",\n",
    "    user=\"root\",\n",
    "    passwd=\"5112\",\n",
    "    auth_plugin='mysql_native_password',\n",
    "    database=\"bookstore\",\n",
    ")\n",
    "\n",
    "if (bool(myconn) == True):\n",
    "    print(\"Connected to the database\")\n",
    "else:\n",
    "    print(\"Connected Failed\")\n",
    "    exit()\n",
    "\n",
    "mycursor = mydb.cursor()\n",
    "\n",
    "# showing tables\n",
    "mycursor.execute(\"SHOW TABLES\")\n",
    "print(\"Tables are: \", end=\"\")\n",
    "for x in mycursor:\n",
    "    print(x[0], end=\", \")"
   ]
  },
  {
   "cell_type": "markdown",
   "metadata": {},
   "source": [
    "1. `cursor()` method: This method is used to create a cursor object that is used to interact with the database. The cursor object is used to execute SQL commands on the database and retrieve the results of the SQL commands. The `cursor()` method returns a cursor object that can be used to interact with the database.\n",
    "\n",
    "2. `execute()` method: This method is used to execute an SQL command. The SQL command can be a query, an insert, an update, a delete, or any other SQL command. The `execute()` method takes an SQL command as an argument and executes it on the database. The `execute()` method returns the number of rows affected by the SQL command."
   ]
  }
 ],
 "metadata": {
  "kernelspec": {
   "display_name": "Python 3",
   "language": "python",
   "name": "python3"
  },
  "language_info": {
   "codemirror_mode": {
    "name": "ipython",
    "version": 3
   },
   "file_extension": ".py",
   "mimetype": "text/x-python",
   "name": "python",
   "nbconvert_exporter": "python",
   "pygments_lexer": "ipython3",
   "version": "3.12.4"
  }
 },
 "nbformat": 4,
 "nbformat_minor": 2
}
