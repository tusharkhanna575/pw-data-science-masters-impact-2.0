{
 "cells": [
  {
   "cell_type": "markdown",
   "metadata": {},
   "source": [
    "# Assignment - OOP's"
   ]
  },
  {
   "cell_type": "markdown",
   "metadata": {},
   "source": [
    "#### Q1. Explain Class and Object with respect to Object-Oriented Programming. Give a suitable example.\n",
    "In object-oriented programming (OOP), a class is a blueprint for creating objects. It defines the attributes and methods that all objects of that class will have. An object is an instance of a class. It is a concrete entity that has been created from the class blueprint.\n",
    "\n",
    "For example, a `dog` is a class and their properties or methods are `color()`, `age()`, `height()`, etc."
   ]
  },
  {
   "cell_type": "markdown",
   "metadata": {},
   "source": [
    "#### Q2. Name the four pillars of OOPs.\n",
    "1. Inheritance \n",
    "2. Polymorphism\n",
    "3. Abstraction\n",
    "4. Encapsulation"
   ]
  },
  {
   "cell_type": "markdown",
   "metadata": {},
   "source": [
    "#### Q3. Explain why the __init__() function is used. Give a suitable example.\n",
    "The __init__() function is used to initialize the attributes of an object when it is created. It is a special method that is called every time an object is created from a class. The __init__() function is often referred to as the constructor in Python.\n",
    "For example,"
   ]
  },
  {
   "cell_type": "code",
   "execution_count": 3,
   "metadata": {},
   "outputs": [
    {
     "name": "stdout",
     "output_type": "stream",
     "text": [
      "Hello Tushar!\n"
     ]
    }
   ],
   "source": [
    "class Person:\n",
    "    \n",
    "    def __init__(self, name, age, gender) -> None:\n",
    "        self.name = name\n",
    "        self.age = age\n",
    "        self.gender = gender\n",
    "    \n",
    "    def hello(self):\n",
    "        print(f\"Hello {self.name}!\")\n",
    "        \n",
    "a = Person(\"Tushar\" , 21, \"Male\")\n",
    "a.hello()"
   ]
  },
  {
   "cell_type": "markdown",
   "metadata": {},
   "source": [
    "####  Q4. Why self is used in OOPs?\n",
    "The `self` keyword is used in object-oriented programming (OOP) to refer to the current instance of the class. It is used to access the attributes and methods of the class from within the class itself.\n",
    "\n",
    "In Python, all methods must have a self parameter as the first parameter. This parameter is used to refer to the current instance of the class. "
   ]
  },
  {
   "cell_type": "markdown",
   "metadata": {},
   "source": [
    "#### Q5. What is inheritance? Give an example for each type of inheritance.\n",
    "Inheritance is a mechanism in object-oriented programming (OOP) that allows a new class to inherit the attributes and methods of an existing class. This allows us to reuse code and create more complex objects.\n",
    "\n",
    "There are five types of inheritance in python:\n",
    "- Single Inheritance : Single inheritance enables a derived class to inherit properties from a single parent class. `Example -` Child inheriting the properties of his parent.\n",
    "\n",
    "- Multiple Inheritance : When a class can be derived from more than one base class this type of inheritance is called multiple inheritances. In multiple inheritances, all the features of the base classes are inherited into the derived class. `Example -` A child inheriting the charecterstics from both his mother as well as his father.\n",
    "\n",
    "- Multilevel Inheritance : In multilevel inheritance, features of the base class and the derived class are further inherited into the new derived class. `Example -` Relationship between a grandchild and granparents.\n",
    "\n",
    "- Hierarchical Inheritance : When more than one derived class are created from a single base this type of inheritance is called hierarchical inheritance. In this program, we have a parent (base) class and two child (derived) classes. `Example -` A parent having two children.\n",
    "\n",
    "- Hybird Inheritance : Inheritance consisting of multiple types of inheritance is called hybrid inheritance."
   ]
  }
 ],
 "metadata": {
  "kernelspec": {
   "display_name": "Python 3",
   "language": "python",
   "name": "python3"
  },
  "language_info": {
   "codemirror_mode": {
    "name": "ipython",
    "version": 3
   },
   "file_extension": ".py",
   "mimetype": "text/x-python",
   "name": "python",
   "nbconvert_exporter": "python",
   "pygments_lexer": "ipython3",
   "version": "3.11.4"
  },
  "orig_nbformat": 4
 },
 "nbformat": 4,
 "nbformat_minor": 2
}
