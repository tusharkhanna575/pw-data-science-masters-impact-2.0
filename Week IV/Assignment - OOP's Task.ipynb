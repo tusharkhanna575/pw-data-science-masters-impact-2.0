{
 "cells": [
  {
   "cell_type": "markdown",
   "metadata": {},
   "source": [
    "# Assignment - OOP's Task"
   ]
  },
  {
   "cell_type": "markdown",
   "metadata": {},
   "source": [
    "#### Q1 Create a `vehicle` class with an `__init__` method having instance variables as `name_of_vehicle`, `max_speed` and `average_of_vehicle`.  "
   ]
  },
  {
   "cell_type": "code",
   "execution_count": 10,
   "metadata": {},
   "outputs": [
    {
     "name": "stdout",
     "output_type": "stream",
     "text": [
      "Vehicle Name : Toyota Fortuner\n",
      "Maximum Speed : 120 kmph\n",
      "Mileage : 16.3 kmpl\n"
     ]
    }
   ],
   "source": [
    "class Vehicle:\n",
    "    \n",
    "    def __init__(self, name_of_vehicle, max_speed, average_of_vehicle):\n",
    "        self.name_of_vehicle = name_of_vehicle\n",
    "        self.max_speed = max_speed\n",
    "        self.average_of_vehicle = average_of_vehicle\n",
    "    \n",
    "    def print_details(self):\n",
    "        print(f\"Vehicle Name : {self.name_of_vehicle}\")\n",
    "        print(f\"Maximum Speed : {self.max_speed} kmph\")\n",
    "        print(f\"Mileage : {self.average_of_vehicle} kmpl\")\n",
    "\n",
    "Fortuner = Vehicle(\"Toyota Fortuner\", 120, 16.3)\n",
    "Fortuner.print_details()"
   ]
  },
  {
   "cell_type": "markdown",
   "metadata": {},
   "source": [
    "#### Q.2 Create a child class `car` from the `vehicle` class created in Que 1, which will inherit the vehicle class. Create a method named `seating_capacity` which takes `capacity` as an argument and returns the `name of the vehicle` and its `seating capacity`."
   ]
  },
  {
   "cell_type": "code",
   "execution_count": 25,
   "metadata": {},
   "outputs": [
    {
     "name": "stdout",
     "output_type": "stream",
     "text": [
      "Car Name : Alto K10 \n",
      "Seating Capicity : 5\n"
     ]
    }
   ],
   "source": [
    "class Vehicle:\n",
    "    \n",
    "    def __init__(self, name_of_vehicle, max_speed, average_of_vehicle):\n",
    "        self.name_of_vehicle = name_of_vehicle\n",
    "        self.max_speed = max_speed\n",
    "        self.average_of_vehicle = average_of_vehicle\n",
    "    \n",
    "    def print_details(self):\n",
    "        print(f\"Vehicle Name : {self.name_of_vehicle}\")\n",
    "        print(f\"Maximum Speed : {self.max_speed} kmph\")\n",
    "        print(f\"Mileage : {self.average_of_vehicle} kmpl\")\n",
    "\n",
    "class Car(Vehicle):\n",
    "    \n",
    "    def __init__(self, name_of_vehicle, max_speed, average_of_vehicle, capicity):\n",
    "        super().__init__(name_of_vehicle, max_speed, average_of_vehicle)\n",
    "        self.capicity = capicity\n",
    "    \n",
    "    def seating_capicity(self):\n",
    "        return(f\"Car Name : {self.name_of_vehicle} \\nSeating Capicity : {self.capicity}\")\n",
    "\n",
    "Alto = Car(\"Alto K10\", 70, 21.7, 5)\n",
    "print(Alto.seating_capicity())"
   ]
  },
  {
   "cell_type": "markdown",
   "metadata": {},
   "source": [
    "#### Q3. What is multiple inheritance? Write a python code to demonstrate multiple inheritance.\n",
    "**Multiple Inheritance** : When a class can be derived from more than one base class this type of inheritance is called multiple inheritances. In multiple inheritances, all the features of the base classes are inherited into the derived class. \n",
    "\n",
    "`Example -` A child inheriting the charecterstics from both his mother as well as his father."
   ]
  },
  {
   "cell_type": "code",
   "execution_count": 30,
   "metadata": {},
   "outputs": [
    {
     "name": "stdout",
     "output_type": "stream",
     "text": [
      "Vehicle Name : Alto K10\n",
      "Maximum Speed : 70 kmph\n",
      "Mileage : 21.7 kmpl\n",
      "Car Name : Alto K10\n",
      "Seating Capicity : 5\n",
      "Vehicle Name : Tesla Model 3\n",
      "Maximum Speed : 200 kmph\n",
      "Mileage : 150 kmpl\n",
      "Car Name : Tesla Model 3\n",
      "Seating Capicity : 5\n",
      "Car Name : Tesla Model 3 \n",
      "Battery Capacity : 85\n"
     ]
    }
   ],
   "source": [
    "class Vehicle:\n",
    "    \n",
    "    def __init__(self, name_of_vehicle, max_speed, average_of_vehicle):\n",
    "        self.name_of_vehicle = name_of_vehicle\n",
    "        self.max_speed = max_speed\n",
    "        self.average_of_vehicle = average_of_vehicle\n",
    "\n",
    "    def print_details(self):\n",
    "        print(f\"Vehicle Name : {self.name_of_vehicle}\")\n",
    "        print(f\"Maximum Speed : {self.max_speed} kmph\")\n",
    "        print(f\"Mileage : {self.average_of_vehicle} kmpl\")\n",
    "\n",
    "\n",
    "class Car(Vehicle):\n",
    "    \n",
    "    def __init__(self, name_of_vehicle, max_speed, average_of_vehicle, capicity):\n",
    "        super().__init__(name_of_vehicle, max_speed, average_of_vehicle)\n",
    "        self.capicity = capicity\n",
    "\n",
    "    def seating_capicity(self):\n",
    "        return(f\"Car Name : {self.name_of_vehicle}\\nSeating Capicity : {self.capicity}\")\n",
    "\n",
    "\n",
    "class ElectricCar(Car):\n",
    "    \n",
    "    def __init__(self, name_of_vehicle, max_speed, average_of_vehicle, seating_capicity, battery):\n",
    "        super().__init__(name_of_vehicle, max_speed, average_of_vehicle, seating_capicity)\n",
    "        self.battery = battery\n",
    "\n",
    "    def battery_capacity(self):\n",
    "        return(f\"Car Name : {self.name_of_vehicle} \\nBattery Capacity : {self.battery}\")\n",
    "\n",
    "\n",
    "alto = Car(\"Alto K10\", 70, 21.7, 5)\n",
    "alto.print_details()\n",
    "print(alto.seating_capicity())\n",
    "\n",
    "tesla = ElectricCar(\"Tesla Model 3\", 200, 150, 5, 85)\n",
    "tesla.print_details()\n",
    "print(tesla.seating_capicity())\n",
    "print(tesla.battery_capacity())"
   ]
  },
  {
   "cell_type": "markdown",
   "metadata": {},
   "source": [
    "#### Q.4 What are `getter` and `setter` in python? Create a class and create a `getter` and a `setter` method in this class.\n",
    "Both `getter` and `setter` are property decorators, which are commonly used in object - oriented programming methodology in python.\n",
    "- `Getter` are methods that allow you to access an attribute in a given class. They are typically used to get the value of a private as well as a protected attribute, without exposing the attribute directly to the user. \n",
    "- `Setter` are methods that allow you to set or mutate the value of an attribute in a class. They are typically used to validate the value of an attribute before it is set, and to prevent users from setting the attribute to an invalid value."
   ]
  },
  {
   "cell_type": "code",
   "execution_count": 5,
   "metadata": {},
   "outputs": [
    {
     "name": "stdout",
     "output_type": "stream",
     "text": [
      "Tushar Khanna\n",
      "Tushar K.\n",
      "Age can't be a negative value\n",
      "20\n"
     ]
    }
   ],
   "source": [
    "class Person:\n",
    "    def __init__(self, name, age):\n",
    "        self._name = name\n",
    "        self._age = age\n",
    "\n",
    "    @property\n",
    "    def name(self):\n",
    "        return self._name\n",
    "\n",
    "    @name.setter\n",
    "    def name(self, new_name):\n",
    "        if not new_name:\n",
    "            raise ValueError(\"Name cannot be empty.\")\n",
    "        self._name = new_name\n",
    "\n",
    "    @property\n",
    "    def age(self):\n",
    "        return self._age\n",
    "\n",
    "    @age.setter\n",
    "    def age(self, new_age):\n",
    "        if new_age < 0:\n",
    "            raise ValueError(\"Age cannot be negative.\")\n",
    "        self._age = new_age\n",
    "\n",
    "\n",
    "tk = Person(\"Tushar Khanna\", 21)\n",
    "print(tk.name)\n",
    "tk.name = \"Tushar K.\"\n",
    "print(tk.name)\n",
    "\n",
    "try:\n",
    "    tk.age = -13\n",
    "except ValueError:\n",
    "    print(\"Age can't be a negative value\")\n",
    "    \n",
    "tk.age = 20\n",
    "print(tk.age)"
   ]
  },
  {
   "cell_type": "markdown",
   "metadata": {},
   "source": [
    "#### Q5. What is `method overriding` in python? Write a python code to demonstrate `method overriding`."
   ]
  },
  {
   "cell_type": "markdown",
   "metadata": {},
   "source": [
    "`Method overriding` is a concept in object-oriented programming (OOP) that allows a subclass to provide a different implementation of a method that is already defined in its superclass. This is useful when you want to change the behavior of a method without having to modify the original code.\n",
    "\n",
    "In Python, method overriding is done by defining a method in the subclass that has the same name, parameters, and return type as a method in the superclass. When an object of the subclass calls the method, the overridden method in the subclass will be executed, not the method in the superclass.\n",
    "\n",
    "It can be achieved in python as:"
   ]
  },
  {
   "cell_type": "code",
   "execution_count": 8,
   "metadata": {},
   "outputs": [
    {
     "name": "stdout",
     "output_type": "stream",
     "text": [
      "I am an animal.\n",
      "Bark!\n",
      "Meow!\n"
     ]
    }
   ],
   "source": [
    "# in this example we overrite the parent method named speak in both the child classes\n",
    "class Animal:\n",
    "    def speak(self):\n",
    "        print(\"I am an animal.\")\n",
    "\n",
    "class Dog(Animal):\n",
    "    def speak(self):\n",
    "        print(\"Bark!\")\n",
    "\n",
    "class Cat(Animal):\n",
    "    def speak(self):\n",
    "        print(\"Meow!\")\n",
    "\n",
    "animal = Animal()\n",
    "animal.speak()\n",
    "\n",
    "dog = Dog()\n",
    "dog.speak()\n",
    "\n",
    "cat = Cat()\n",
    "cat.speak()"
   ]
  }
 ],
 "metadata": {
  "kernelspec": {
   "display_name": "Python 3",
   "language": "python",
   "name": "python3"
  },
  "language_info": {
   "codemirror_mode": {
    "name": "ipython",
    "version": 3
   },
   "file_extension": ".py",
   "mimetype": "text/x-python",
   "name": "python",
   "nbconvert_exporter": "python",
   "pygments_lexer": "ipython3",
   "version": "3.11.4"
  },
  "orig_nbformat": 4
 },
 "nbformat": 4,
 "nbformat_minor": 2
}
