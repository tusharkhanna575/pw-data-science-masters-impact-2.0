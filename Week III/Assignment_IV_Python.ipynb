{
  "nbformat": 4,
  "nbformat_minor": 0,
  "metadata": {
    "colab": {
      "provenance": []
    },
    "kernelspec": {
      "name": "python3",
      "display_name": "Python 3"
    },
    "language_info": {
      "name": "python"
    }
  },
  "cells": [
    {
      "cell_type": "markdown",
      "source": [
        "# Assignment - IV\n",
        "# Python\n",
        "---\n",
        "### Date : 29 May 2023"
      ],
      "metadata": {
        "id": "czxymFQ0KNAa"
      }
    },
    {
      "cell_type": "markdown",
      "source": [
        "#### Q1. Create a python program to sort the given list of tuples based on integer value using a lambda function.\n",
        "\n",
        "`[('Sachin Tendulkar', 34357), ('Ricky Ponting', 27483), ('Jack Kallis', 25534), ('Virat Kohli', 24936)]`"
      ],
      "metadata": {
        "id": "HZfW1ukQKSyc"
      }
    },
    {
      "cell_type": "code",
      "source": [
        "# declare list\n",
        "list_of_tuples = [('Sachin Tendulkar', 34357), ('Ricky Ponting', 27483), ('Jack Kallis', 25534), ('Virat Kohli', 24936)]\n",
        "\n",
        "# Create a lambda function to extract the integer value from each tuple\n",
        "get_integer_value = lambda x: x[1]\n",
        "\n",
        "# Sort the list of tuples using the lambda function\n",
        "sorted_list_of_tuples = sorted(list_of_tuples, key=get_integer_value)\n",
        "\n",
        "# Print the sorted list of tuples\n",
        "print(f\"Required Output is (in ascending order) : {sorted_list_of_tuples}\")\n",
        "print(f\"Required Output is (in descending order) : {sorted_list_of_tuples[::-1]}\")"
      ],
      "metadata": {
        "id": "ViihFmqoLiwQ",
        "colab": {
          "base_uri": "https://localhost:8080/"
        },
        "outputId": "10406efc-936a-4955-cfa9-c681827e3bb9"
      },
      "execution_count": 5,
      "outputs": [
        {
          "output_type": "stream",
          "name": "stdout",
          "text": [
            "Required Output is (in ascending order) : [('Virat Kohli', 24936), ('Jack Kallis', 25534), ('Ricky Ponting', 27483), ('Sachin Tendulkar', 34357)]\n",
            "Required Output is (in descending order) : [('Sachin Tendulkar', 34357), ('Ricky Ponting', 27483), ('Jack Kallis', 25534), ('Virat Kohli', 24936)]\n"
          ]
        }
      ]
    },
    {
      "cell_type": "markdown",
      "source": [
        "#### Q2. Write a Python Program to find the squares of all the numbers in the given list of integers using lambda and map functions.\n",
        "\n",
        "`[1, 2, 3, 4, 5, 6, 7, 8, 9, 10]`"
      ],
      "metadata": {
        "id": "xMymrmJSLj8G"
      }
    },
    {
      "cell_type": "code",
      "source": [
        "# Create a list of integers\n",
        "list_of_integers = [1, 2, 3, 4, 5, 6, 7, 8, 9, 10]\n",
        "\n",
        "# Create a lambda function to square each number in the list\n",
        "square_function = lambda x: x * x\n",
        "\n",
        "# Use the map function to apply the square function to each number in the list\n",
        "squared_numbers = list(map(square_function, list_of_integers))\n",
        "\n",
        "# Print the list of squared numbers\n",
        "print(f\"Required Output is : {squared_numbers}\")"
      ],
      "metadata": {
        "id": "5oY-x2IpLoTd",
        "colab": {
          "base_uri": "https://localhost:8080/"
        },
        "outputId": "c2233662-0ab5-4fbe-b89d-fa161f6170af"
      },
      "execution_count": 4,
      "outputs": [
        {
          "output_type": "stream",
          "name": "stdout",
          "text": [
            "Required Output is : [1, 4, 9, 16, 25, 36, 49, 64, 81, 100]\n"
          ]
        }
      ]
    },
    {
      "cell_type": "markdown",
      "source": [
        "#### Q3. Write a python program to convert the given list of integers into a tuple of strings. Use map and lambda functions.\n",
        "\n",
        "Given List: `[1, 2, 3, 4, 5, 6, 7, 8, 9, 10]` \n",
        "\n",
        "Expected output: `('1', '2', '3', '4', '5', '6', '7', '8', '9', '10')`"
      ],
      "metadata": {
        "id": "_DN2erdyLo1e"
      }
    },
    {
      "cell_type": "code",
      "source": [
        "# Create a list of integers\n",
        "list_of_integers = [1, 2, 3, 4, 5, 6, 7, 8, 9, 10]\n",
        "\n",
        "# Create a lambda function to convert each integer to a string\n",
        "string_function = lambda x: str(x)\n",
        "\n",
        "# Use the map function to apply the string function to each integer in the list\n",
        "tuple_of_strings = tuple(map(string_function, list_of_integers))\n",
        "\n",
        "# Print the tuple of strings\n",
        "print(f\"Given List : {list_of_integers}\")\n",
        "print(f\"Expected Output : {tuple_of_strings}\")"
      ],
      "metadata": {
        "id": "abotzix6L2ec",
        "colab": {
          "base_uri": "https://localhost:8080/"
        },
        "outputId": "cd4aefdc-33ef-4593-ae93-b67cb8d83a8f"
      },
      "execution_count": 7,
      "outputs": [
        {
          "output_type": "stream",
          "name": "stdout",
          "text": [
            "Given List : [1, 2, 3, 4, 5, 6, 7, 8, 9, 10]\n",
            "Expected Output : ('1', '2', '3', '4', '5', '6', '7', '8', '9', '10')\n"
          ]
        }
      ]
    },
    {
      "cell_type": "markdown",
      "source": [
        "#### Q4. Write a python program using reduce function to compute the product of a list containing numbers from 1 to 25."
      ],
      "metadata": {
        "id": "OaNG8sdCL38E"
      }
    },
    {
      "cell_type": "code",
      "source": [
        "from functools import reduce\n",
        "\n",
        "# Create a list of numbers from 1 to 25\n",
        "list_of_numbers = list(range(1, 26))\n",
        "\n",
        "# Use the reduce function to compute the product of the numbers in the list\n",
        "product_of_numbers = reduce(lambda x, y: x * y, list_of_numbers)\n",
        "\n",
        "# Print the product of the numbers\n",
        "print(f\"Given list : {list_of_numbers}\")\n",
        "print(f\"Product : {product_of_numbers}\")"
      ],
      "metadata": {
        "id": "_SCMbwEaL8w5",
        "colab": {
          "base_uri": "https://localhost:8080/"
        },
        "outputId": "dbdba101-5bd3-4905-e274-d17bd96c3583"
      },
      "execution_count": 8,
      "outputs": [
        {
          "output_type": "stream",
          "name": "stdout",
          "text": [
            "Given list : [1, 2, 3, 4, 5, 6, 7, 8, 9, 10, 11, 12, 13, 14, 15, 16, 17, 18, 19, 20, 21, 22, 23, 24, 25]\n",
            "Product : 15511210043330985984000000\n"
          ]
        }
      ]
    },
    {
      "cell_type": "markdown",
      "source": [
        "#### Q5. Write a python program to filter the numbers in a given list that are divisible by 2 and 3 using the filter function.\n",
        "\n",
        "`[2, 3, 6, 9, 27, 60, 90, 120, 55, 46]`"
      ],
      "metadata": {
        "id": "E5rBWcY7L9mw"
      }
    },
    {
      "cell_type": "code",
      "source": [
        "# Create a list of numbers\n",
        "list_of_numbers = [2, 3, 6, 9, 27, 60, 90, 120, 55, 46]\n",
        "\n",
        "# Create a lambda function to filter the numbers that are divisible by 2 and 3\n",
        "filter_function = lambda x: (x % 2 == 0) and (x % 3 == 0)\n",
        "\n",
        "# Use the filter function to filter the list of numbers\n",
        "filtered_list = list(filter(filter_function, list_of_numbers))\n",
        "\n",
        "# Print the filtered list\n",
        "print(f\"Given List : {list_of_numbers}\")\n",
        "print(f\"Filtered List : {filtered_list}\")"
      ],
      "metadata": {
        "id": "ZNyLykqpMCDu",
        "colab": {
          "base_uri": "https://localhost:8080/"
        },
        "outputId": "63cd32c4-1870-4f4c-d0e8-a8e884d8a0a9"
      },
      "execution_count": 9,
      "outputs": [
        {
          "output_type": "stream",
          "name": "stdout",
          "text": [
            "Given List : [2, 3, 6, 9, 27, 60, 90, 120, 55, 46]\n",
            "Filtered List : [6, 60, 90, 120]\n"
          ]
        }
      ]
    },
    {
      "cell_type": "markdown",
      "source": [
        "#### Q6. Write a python program to find palindromes in the given list of strings using lambda and filter function.\n",
        "\n",
        "`['python', 'php', 'aba', 'radar', 'level']`"
      ],
      "metadata": {
        "id": "fLjAeJjmMChY"
      }
    },
    {
      "cell_type": "code",
      "source": [
        "# Create a list of strings\n",
        "list_of_strings = ['python', 'php', 'aba', 'radar', 'level']\n",
        "\n",
        "# Create a lambda function to check if a string is a palindrome\n",
        "is_palindrome = lambda x: x == x[::-1]\n",
        "\n",
        "# Use the filter function to filter the list of strings\n",
        "palindromes = list(filter(is_palindrome, list_of_strings))\n",
        "\n",
        "# Print the list of palindromes\n",
        "print(f\"Given List : {list_of_strings}\")\n",
        "print(f\"Expected Output : {palindromes}\")"
      ],
      "metadata": {
        "id": "Xvu6-4G3MKfR",
        "colab": {
          "base_uri": "https://localhost:8080/"
        },
        "outputId": "ae4b0fe4-5887-40a0-9275-ce4d8b9d0e05"
      },
      "execution_count": 11,
      "outputs": [
        {
          "output_type": "stream",
          "name": "stdout",
          "text": [
            "Given List : ['python', 'php', 'aba', 'radar', 'level']\n",
            "Expected Output : ['php', 'aba', 'radar', 'level']\n"
          ]
        }
      ]
    }
  ]
}