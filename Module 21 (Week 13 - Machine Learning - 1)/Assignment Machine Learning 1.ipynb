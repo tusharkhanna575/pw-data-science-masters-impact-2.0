{
 "cells": [
  {
   "cell_type": "markdown",
   "metadata": {},
   "source": [
    "## Assignment Machine Learning 1"
   ]
  },
  {
   "cell_type": "markdown",
   "metadata": {},
   "source": [
    "#### Q1. Explain the following with an example -\n",
    "1. `Artificial Intelligence (AI):` AI refers to the simulation of human intelligence in machines that are programmed to think and act like humans. This includes problem-solving, learning, and adapting. `Example:` A good example of AI is a virtual personal assistant like Siri or Alexa. These assistants use AI to interpret voice commands, provide information, set reminders, play music, and control smart home devices. They process natural language to understand and respond to users in a conversational manner.\n",
    "\n",
    "2. `Machine Learning (ML):` ML is a subset of AI that involves the use of algorithms and statistical models to enable machines to improve their performance on tasks through experience. It involves training a model on data to make predictions or decisions without being explicitly programmed to perform the task. `Example:` Consider a spam email filter. Initially, the filter might use basic rules to classify emails as spam or not. As it processes more emails and learns from user feedback (e.g., marking an email as spam), it becomes better at predicting which emails are spam based on patterns in the data, such as the presence of certain keywords, sender information, or email structure.\n",
    "\n",
    "3. `Deep Learning (DL):` DL is a subset of ML that uses neural networks with many layers (hence \"deep\") to analyze various factors of data. It is particularly effective for tasks involving large amounts of unstructured data, such as images, audio, and text. `Example:` An example of DL is an image recognition system. For instance, a deep learning model can be trained to identify different objects in images. A popular application is facial recognition. The model is trained on thousands of images of faces, learning to recognize features like the shape of eyes, nose, and mouth. Once trained, it can accurately identify or verify individuals in new images by analyzing these features."
   ]
  },
  {
   "cell_type": "markdown",
   "metadata": {},
   "source": [
    "#### Q2. What is Supervised learning? List some examples of Supervised learning.\n",
    "`Supervised learning` is a type of machine learning where the model is trained on labeled data, a dataset that includes both input and output values. The goal is to learn a mapping function from the input to the output, so the model can make predictions on new, unseen data. In supervised learning, the model is provided with a set of training examples, where each example consists of input features and the corresponding target labels. The model learns to make predictions by generalizing patterns from the training data.\n",
    "\n",
    "Examples of Supervised learning include:\n",
    "1. `Classification`: Predicting discrete class labels for input data. For example, classifying emails as spam or not spam.\n",
    "2. `Regression`: Predicting continuous values for input data. For example, predicting house prices based on features like location, size, and number of bedrooms.\n",
    "3. `Object detection`: Identifying and localizing objects within an image or video. For example, detecting pedestrians in images for autonomous driving systems.\n",
    "4. `Sentiment analysis`: Analyzing text data to determine the sentiment or opinion expressed. For example, classifying movie reviews as positive or negative.\n",
    "5. `Speech recognition`: Transcribing spoken language into text. For example, converting audio recordings to text for voice assistants like Siri or Google Assistant."
   ]
  },
  {
   "cell_type": "markdown",
   "metadata": {},
   "source": [
    "#### What is Unsupervised learning? List some examples of Unsupervised learning.\n",
    "`Unsupervised learning` is a type of machine learning where the model is trained on unlabeled data, a dataset that does not include target labels. The goal is to find patterns or structure in the data without explicit guidance on the output. In unsupervised learning, the model learns to identify relationships and groupings within the data based on similarities or differences in the input features.\n",
    "\n",
    "Some examples of unsupervised learning include:\n",
    "1. `Clustering`: Grouping similar data points together based on their features. For example, clustering customers based on their purchasing behavior.\n",
    "2. `Dimensionality reduction`: Reducing the number of input features while preserving important information. For example, using principal component analysis (PCA) to visualize high-dimensional data in a lower-dimensional space.\n",
    "3. `Anomaly detection`: Identifying unusual or abnormal data points in a dataset. For example, detecting fraudulent transactions in financial data.\n",
    "4. `Association rule mining`: Discovering relationships or patterns in transactional data. For example, identifying frequently co-occurring items in market basket analysis.\n",
    "5. `Generative modeling`: Learning the underlying distribution of the data to generate new samples. For example, generating realistic images using generative adversarial networks (GANs)."
   ]
  },
  {
   "cell_type": "markdown",
   "metadata": {},
   "source": [
    "#### Q4- What is the difference between AI, ML, DL and DS?\n",
    "1. `Artificial Intelligence (AI)`: AI refers to the simulation of human intelligence in machines that are programmed to think and act like humans. It encompasses a broad range of techniques and applications, including machine learning and deep learning. AI aims to create intelligent systems that can perform tasks that typically require human intelligence, such as problem-solving, decision-making, and natural language processing.\n",
    "2. `Machine Learning (ML)`: ML is a subset of AI that involves training algorithms to learn patterns and make predictions from data. It focuses on developing models that can improve their performance on tasks through experience, without being explicitly programmed. ML algorithms can be supervised, unsupervised, or semi-supervised, depending on the type of data available for training.\n",
    "3. `Deep Learning (DL)`: DL is a subset of ML that uses neural networks with many layers to analyze complex patterns in data. It is particularly effective for tasks involving large amounts of unstructured data, such as images, audio, and text. DL models can automatically learn hierarchical representations of features from the data, enabling them to perform tasks like image recognition, speech recognition, and natural language processing.\n",
    "4. `Data Science (DS)`: DS is an interdisciplinary field that combines domain knowledge, programming skills, and statistical techniques to extract insights and knowledge from data. It encompasses a wide range of activities, including data collection, cleaning, analysis, visualization, and interpretation. DS involves applying tools and methods from statistics, machine learning, and computer science to solve complex problems and make data-driven decisions."
   ]
  },
  {
   "cell_type": "markdown",
   "metadata": {},
   "source": [
    "#### Q5. What are the main difference between Supervised, Unsupervised and Semi-Supervised Learning?\n",
    "1. `Supervised Learning`: In supervised learning, the model is trained on labeled data, where each example consists of input features and the corresponding target labels. The goal is to learn a mapping function from the input to the output, so the model can make predictions on new, unseen data. Supervised learning algorithms are used for tasks like classification and regression, where the model learns to predict discrete class labels or continuous values based on the input features.\n",
    "\n",
    "2. `Unsupervised Learning`: In unsupervised learning, the model is trained on unlabeled data, where no target labels are provided. The goal is to find patterns or structure in the data without explicit guidance on the output. Unsupervised learning algorithms are used for tasks like clustering, dimensionality reduction, and anomaly detection, where the model learns to identify relationships and groupings within the data based on similarities or differences in the input features.\n",
    "\n",
    "3. `Semi-Supervised Learning`: Semi-supervised learning is a combination of supervised and unsupervised learning, where the model is trained on a mix of labeled and unlabeled data. The goal is to leverage the information from both labeled and unlabeled examples to improve the model's performance. Semi-supervised learning algorithms are useful when labeled data is scarce or expensive to obtain, as they can learn from a small amount of labeled data and a larger amount of unlabeled data to make predictions on new data."
   ]
  },
  {
   "cell_type": "markdown",
   "metadata": {},
   "source": [
    "#### Q6. What is train, test and validation split? Explain the importance of each term.\n",
    "1. `Train set`: The training set is a subset of the dataset used to train the machine learning model. It consists of input features and corresponding target labels, which the model learns from to make predictions. The training set is used to optimize the model's parameters through iterative updates, such as gradient descent, to minimize the error between predicted and actual values.\n",
    "\n",
    "2. `Test set`: The test set is a subset of the dataset used to evaluate the performance of the trained model on unseen data. It consists of input features and target labels that the model has not seen during training. The test set helps assess the model's generalization ability and measure its performance on new, unseen examples. It provides an unbiased estimate of the model's accuracy and helps identify potential issues like overfitting or underfitting.\n",
    "\n",
    "3. `Validation set`: The validation set is a subset of the dataset used to fine-tune the model's hyperparameters and prevent overfitting. It consists of input features and target labels that are separate from the training and test sets. The validation set helps monitor the model's performance during training and select the best hyperparameters based on validation metrics like accuracy or loss. It allows for early stopping and model selection based on performance on unseen data."
   ]
  },
  {
   "cell_type": "markdown",
   "metadata": {},
   "source": [
    "#### Q7. How can Unsupervised learning be used in anomaly detection?\n",
    "`Unsupervised learning` can be used in anomaly detection by identifying unusual or abnormal data points in a dataset without the need for labeled examples. Anomaly detection involves finding patterns or outliers that deviate significantly from the normal behavior of the data. Unsupervised learning algorithms like clustering, density estimation, and dimensionality reduction can be applied to detect anomalies in various domains, such as fraud detection, network security, and predictive maintenance."
   ]
  },
  {
   "cell_type": "markdown",
   "metadata": {},
   "source": [
    "#### Q8. List down some commonly used Supervised learning algorithms and Unsupervised learning algorithms.\n",
    "\n",
    "|Supervised Learning|Unsupervised Learning| \n",
    "|:---:|:---:|\n",
    "|Linear Regression|K-means Clustering|\n",
    "|Support Vector Machine|Principal Component Analysis|\n",
    "|Decision Trees|Density-Based Spatial Clustering of Applications with Noise (DBSCAN)|"
   ]
  }
 ],
 "metadata": {
  "kernelspec": {
   "display_name": "Python 3",
   "language": "python",
   "name": "python3"
  },
  "language_info": {
   "name": "python",
   "version": "3.12.4"
  }
 },
 "nbformat": 4,
 "nbformat_minor": 2
}
